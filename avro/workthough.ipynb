{
 "cells": [
  {
   "cell_type": "code",
   "execution_count": 1,
   "metadata": {},
   "outputs": [
    {
     "data": {
      "text/plain": "{'namespace': 'user.profile',\n 'type': 'record',\n 'name': 'User',\n 'fields': [{'name': 'name', 'type': 'string'},\n  {'name': 'age', 'type': 'int'},\n  {'name': 'favorite_books',\n   'type': {'type': 'array',\n    'items': {'type': 'record',\n     'name': 'Book',\n     'fields': [{'name': 'name', 'type': 'string'},\n      {'name': 'publish_year', 'type': 'int'},\n      {'name': 'author', 'type': 'string'}]}}}]}"
     },
     "execution_count": 1,
     "metadata": {},
     "output_type": "execute_result"
    }
   ],
   "source": [
    "# %load user.avsc\n",
    "{\n",
    "    \"namespace\": \"user.profile\",\n",
    "    \"type\": \"record\",\n",
    "    \"name\": \"User\",\n",
    "    \"fields\": [\n",
    "        {\n",
    "            \"name\": \"name\",\n",
    "            \"type\": \"string\"\n",
    "        },\n",
    "        {\n",
    "            \"name\": \"age\",\n",
    "            \"type\": \"int\"\n",
    "        },\n",
    "        {\n",
    "            \"name\": \"favorite_books\",\n",
    "            \"type\": {\n",
    "                \"type\": \"array\",\n",
    "                \"items\": {\n",
    "                    \"type\": \"record\",\n",
    "                    \"name\": \"Book\",\n",
    "                    \"fields\": [\n",
    "                        {\n",
    "                            \"name\": \"name\",\n",
    "                            \"type\": \"string\"\n",
    "                        },{\n",
    "                            \"name\": \"publish_year\",\n",
    "                            \"type\": \"int\"\n",
    "                        },{\n",
    "                            \"name\": \"author\",\n",
    "                            \"type\": \"string\"\n",
    "                        }\n",
    "                    ]\n",
    "                }\n",
    "            }\n",
    "\n",
    "        }\n",
    "    ]\n",
    "}"
   ]
  },
  {
   "cell_type": "code",
   "execution_count": 2,
   "metadata": {},
   "outputs": [],
   "source": [
    "book_1 = {\n",
    "    \"name\": \"Avro Example\",\n",
    "    \"publish_year\": 2020,\n",
    "    \"author\": \"Ben\"\n",
    "}\n",
    "\n",
    "book_2 = {\n",
    "    \"name\": \"Avro Explorer\",\n",
    "    \"publish_year\": 2021,\n",
    "    \"author\": \"Jim\"\n",
    "}\n",
    "\n",
    "book_3 = {\n",
    "    \"name\": \"Data Extraction\",\n",
    "    \"publish_year\": 2019,\n",
    "    \"author\": \"Ted\"\n",
    "}\n",
    "\n",
    "user_1 = {\n",
    "    \"name\": \"Ken\",\n",
    "    \"age\": 17,\n",
    "    \"favorite_books\": [\n",
    "        book_1\n",
    "    ]\n",
    "}\n",
    "\n",
    "user_2 = {\n",
    "    \"name\": \"Eva\",\n",
    "    \"age\": 17,\n",
    "    \"favorite_books\": [\n",
    "        book_2, book_3\n",
    "    ]\n",
    "}"
   ]
  },
  {
   "cell_type": "code",
   "execution_count": 3,
   "metadata": {},
   "outputs": [
    {
     "name": "stdout",
     "output_type": "stream",
     "text": [
      "CPU times: user 6.74 s, sys: 18.1 ms, total: 6.76 s\n",
      "Wall time: 6.86 s\n"
     ]
    }
   ],
   "source": [
    "%%time\n",
    "\n",
    "import avro.schema\n",
    "from avro.datafile import DataFileReader, DataFileWriter\n",
    "from avro.io import DatumReader, DatumWriter\n",
    "\n",
    "schema = avro.schema.parse(open(\"user.avsc\", \"rb\").read())\n",
    "\n",
    "# not closable\n",
    "writer = DataFileWriter(open(\"users.avro\", \"wb\"), DatumWriter(), schema)\n",
    "\n",
    "for i in range(1, 100001):\n",
    "    writer.append(user_1)\n",
    "    writer.append(user_2)\n",
    "\n",
    "writer.close()"
   ]
  },
  {
   "cell_type": "code",
   "execution_count": 4,
   "metadata": {},
   "outputs": [],
   "source": [
    "# not closable\n",
    "# reader = DataFileReader(open(\"users.avro\", \"rb\"), DatumReader())\n",
    "# for user in reader:\n",
    "#     print(user)"
   ]
  },
  {
   "cell_type": "code",
   "execution_count": 5,
   "metadata": {},
   "outputs": [
    {
     "name": "stdout",
     "output_type": "stream",
     "text": [
      "{'type': 'record', 'name': 'user.profile.User', 'fields': [{'name': 'name', 'type': 'string'}, {'name': 'age', 'type': 'int'}, {'name': 'favorite_books', 'type': {'type': 'array', 'items': {'type': 'record', 'name': 'user.profile.Book', 'fields': [{'name': 'name', 'type': 'string'}, {'name': 'publish_year', 'type': 'int'}, {'name': 'author', 'type': 'string'}]}}}], '__fastavro_parsed': True, '__named_schemas': {'user.profile.User': {'type': 'record', 'name': 'user.profile.User', 'fields': [{'name': 'name', 'type': 'string'}, {'name': 'age', 'type': 'int'}, {'name': 'favorite_books', 'type': {'type': 'array', 'items': {'type': 'record', 'name': 'user.profile.Book', 'fields': [{'name': 'name', 'type': 'string'}, {'name': 'publish_year', 'type': 'int'}, {'name': 'author', 'type': 'string'}]}}}]}, 'user.profile.Book': {'type': 'record', 'name': 'user.profile.Book', 'fields': [{'name': 'name', 'type': 'string'}, {'name': 'publish_year', 'type': 'int'}, {'name': 'author', 'type': 'string'}]}}}\n",
      "CPU times: user 423 ms, sys: 19.9 ms, total: 443 ms\n",
      "Wall time: 522 ms\n"
     ]
    }
   ],
   "source": [
    "%%time\n",
    "from fastavro import writer, reader\n",
    "from fastavro.schema import load_schema\n",
    "\n",
    "schema = load_schema(\"user.avsc\")\n",
    "print(schema)\n",
    "users = []\n",
    "\n",
    "for input in range(1, 100001):\n",
    "    users.append(user_1)\n",
    "    users.append(user_2)\n",
    "\n",
    "with open('users_fast.avro', 'wb') as out:\n",
    "    writer(out, schema, users)"
   ]
  },
  {
   "cell_type": "code",
   "execution_count": 6,
   "metadata": {},
   "outputs": [],
   "source": [
    "from pyspark.sql import SparkSession\n",
    "\n",
    "spark = SparkSession.builder \\\n",
    "                    .config(\"spark.jars.packages\", \"com.databricks:spark-avro_2.11:4.0.0\") \\\n",
    "                    .getOrCreate()"
   ]
  },
  {
   "cell_type": "code",
   "execution_count": 7,
   "metadata": {},
   "outputs": [
    {
     "name": "stdout",
     "output_type": "stream",
     "text": [
      "root\n",
      " |-- name: string (nullable = true)\n",
      " |-- age: integer (nullable = true)\n",
      " |-- favorite_books: array (nullable = true)\n",
      " |    |-- element: struct (containsNull = true)\n",
      " |    |    |-- name: string (nullable = true)\n",
      " |    |    |-- publish_year: integer (nullable = true)\n",
      " |    |    |-- author: string (nullable = true)\n",
      "\n"
     ]
    }
   ],
   "source": [
    "df = spark.read.format(\"com.databricks.spark.avro\").load(\"users.avro\")\n",
    "df.printSchema()"
   ]
  },
  {
   "cell_type": "code",
   "execution_count": 8,
   "metadata": {},
   "outputs": [
    {
     "name": "stdout",
     "output_type": "stream",
     "text": [
      "root\n",
      " |-- name: string (nullable = true)\n",
      " |-- age: integer (nullable = true)\n",
      " |-- favorite_book: struct (nullable = true)\n",
      " |    |-- name: string (nullable = true)\n",
      " |    |-- publish_year: integer (nullable = true)\n",
      " |    |-- author: string (nullable = true)\n",
      "\n"
     ]
    }
   ],
   "source": [
    "from pyspark.sql.functions import *\n",
    "explode_col = explode('favorite_books').alias(\"favorite_book\")\n",
    "exploded_df = df.select(\n",
    "    \"name\", \n",
    "    \"age\",\n",
    "    explode_col\n",
    ")\n",
    "\n",
    "exploded_df.printSchema()"
   ]
  },
  {
   "cell_type": "code",
   "execution_count": 9,
   "metadata": {},
   "outputs": [
    {
     "name": "stdout",
     "output_type": "stream",
     "text": [
      "root\n",
      " |-- name: string (nullable = true)\n",
      " |-- age: integer (nullable = true)\n",
      " |-- favorite_book_name: string (nullable = true)\n",
      " |-- favorite_book_publish_year: integer (nullable = true)\n",
      " |-- favorite_book_author: string (nullable = true)\n",
      "\n"
     ]
    }
   ],
   "source": [
    "flatten_df = exploded_df.select(\n",
    "    \"name\", \n",
    "    \"age\",\n",
    "    col(\"favorite_book.name\").alias(\"favorite_book_name\"),\n",
    "    col(\"favorite_book.publish_year\").alias(\"favorite_book_publish_year\"),\n",
    "    col(\"favorite_book.author\").alias(\"favorite_book_author\"),\n",
    ")\n",
    "\n",
    "flatten_df.printSchema()"
   ]
  },
  {
   "cell_type": "code",
   "execution_count": 10,
   "metadata": {},
   "outputs": [
    {
     "name": "stdout",
     "output_type": "stream",
     "text": [
      "+----+---+------------------+--------------------------+--------------------+\n",
      "|name|age|favorite_book_name|favorite_book_publish_year|favorite_book_author|\n",
      "+----+---+------------------+--------------------------+--------------------+\n",
      "| Ken| 17|      Avro Example|                      2020|                 Ben|\n",
      "| Eva| 17|     Avro Explorer|                      2021|                 Jim|\n",
      "| Eva| 17|   Data Extraction|                      2019|                 Ted|\n",
      "| Ken| 17|      Avro Example|                      2020|                 Ben|\n",
      "| Eva| 17|     Avro Explorer|                      2021|                 Jim|\n",
      "| Eva| 17|   Data Extraction|                      2019|                 Ted|\n",
      "| Ken| 17|      Avro Example|                      2020|                 Ben|\n",
      "| Eva| 17|     Avro Explorer|                      2021|                 Jim|\n",
      "| Eva| 17|   Data Extraction|                      2019|                 Ted|\n",
      "| Ken| 17|      Avro Example|                      2020|                 Ben|\n",
      "| Eva| 17|     Avro Explorer|                      2021|                 Jim|\n",
      "| Eva| 17|   Data Extraction|                      2019|                 Ted|\n",
      "| Ken| 17|      Avro Example|                      2020|                 Ben|\n",
      "| Eva| 17|     Avro Explorer|                      2021|                 Jim|\n",
      "| Eva| 17|   Data Extraction|                      2019|                 Ted|\n",
      "| Ken| 17|      Avro Example|                      2020|                 Ben|\n",
      "| Eva| 17|     Avro Explorer|                      2021|                 Jim|\n",
      "| Eva| 17|   Data Extraction|                      2019|                 Ted|\n",
      "| Ken| 17|      Avro Example|                      2020|                 Ben|\n",
      "| Eva| 17|     Avro Explorer|                      2021|                 Jim|\n",
      "+----+---+------------------+--------------------------+--------------------+\n",
      "only showing top 20 rows\n",
      "\n"
     ]
    }
   ],
   "source": [
    "flatten_df.show()"
   ]
  },
  {
   "cell_type": "code",
   "execution_count": 11,
   "metadata": {},
   "outputs": [
    {
     "name": "stdout",
     "output_type": "stream",
     "text": [
      "+---------+\n",
      "|row_count|\n",
      "+---------+\n",
      "|   300000|\n",
      "+---------+\n",
      "\n"
     ]
    }
   ],
   "source": [
    "flatten_df.agg(count(\"*\").alias(\"row_count\")).show()"
   ]
  },
  {
   "cell_type": "code",
   "execution_count": 12,
   "metadata": {},
   "outputs": [],
   "source": [
    "flatten_df.repartition(1).write \\\n",
    "    .format(\"com.databricks.spark.avro\") \\\n",
    "    .save(\"flatten_users\")"
   ]
  },
  {
   "cell_type": "code",
   "execution_count": 13,
   "metadata": {},
   "outputs": [
    {
     "name": "stdout",
     "output_type": "stream",
     "text": [
      "+------------------+---------------+\n",
      "|favorite_book_name|number_of_users|\n",
      "+------------------+---------------+\n",
      "|   Data Extraction|         100000|\n",
      "|     Avro Explorer|         100000|\n",
      "|      Avro Example|         100000|\n",
      "+------------------+---------------+\n",
      "\n"
     ]
    }
   ],
   "source": [
    "validate_df = spark.read.format(\"com.databricks.spark.avro\").load(\"flatten_users\")\n",
    "validate_df.groupby(\"favorite_book_name\").agg(count(\"*\").alias(\"number_of_users\")).show()"
   ]
  }
 ],
 "metadata": {
  "kernelspec": {
   "display_name": "Python 3.7.10 64-bit ('avro-explorer': conda)",
   "metadata": {
    "interpreter": {
     "hash": "67b00435268490b0d9dd6814e1ebabcadd6828fe2eccf9fb1f70404f0f43330d"
    }
   },
   "name": "python3"
  },
  "language_info": {
   "codemirror_mode": {
    "name": "ipython",
    "version": 3
   },
   "file_extension": ".py",
   "mimetype": "text/x-python",
   "name": "python",
   "nbconvert_exporter": "python",
   "pygments_lexer": "ipython3",
   "version": "3.7.10"
  },
  "orig_nbformat": 2
 },
 "nbformat": 4,
 "nbformat_minor": 2
}